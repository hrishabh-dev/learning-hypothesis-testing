{
  "nbformat": 4,
  "nbformat_minor": 0,
  "metadata": {
    "colab": {
      "provenance": [],
      "gpuType": "T4",
      "authorship_tag": "ABX9TyNdMEhfC1xfr5NI80pDTPq3"
    },
    "kernelspec": {
      "name": "python3",
      "display_name": "Python 3"
    },
    "language_info": {
      "name": "python"
    },
    "accelerator": "GPU"
  },
  "cells": [
    {
      "cell_type": "markdown",
      "source": [
        "# Null Hypothesis (H₀):\n",
        "## It's an idea that says \"nothing is different\" or \"no effect is happening.\" It's what you assume to be true at the start of a test, and you try to find evidence to reject it.\n",
        "\n",
        "##For example, if you're testing if a new medicine works, the null hypothesis might be:\n",
        "##\"The medicine has no effect; it doesn't improve health.\"\n",
        "\n",
        "##If the data suggests otherwise, you might reject the null hypothesis."
      ],
      "metadata": {
        "id": "YRqMmSH16vIk"
      }
    },
    {
      "cell_type": "markdown",
      "source": [
        "**Scenario:**\n",
        "\n",
        "A company claims that their new advertising campaign increases average sales.\n",
        "Historically, the average sales per day were $200. After launching the campaign, the company wants to test if the new campaign actually increased sales.\n",
        "\n",
        "**Objective:**\n",
        "\n",
        "Test whether the average daily sales after the campaign are significantly greater than $200."
      ],
      "metadata": {
        "id": "81mIvXAE6Ud1"
      }
    },
    {
      "cell_type": "code",
      "execution_count": 1,
      "metadata": {
        "colab": {
          "base_uri": "https://localhost:8080/"
        },
        "id": "jDVSoGGn6NX4",
        "outputId": "f953461b-189a-4a84-dd29-2727e05cec0a"
      },
      "outputs": [
        {
          "output_type": "stream",
          "name": "stdout",
          "text": [
            "Sample sales data: [210 220 215 230 225 210 235 240 225 220 210 215]\n",
            "T-statistic: 7.340392083002337\n",
            "P-value: 1.4659545574567926e-05\n",
            "Reject the null hypothesis: The campaign has significantly increased average sales.\n"
          ]
        }
      ],
      "source": [
        "import numpy as np\n",
        "from scipy.stats import ttest_1samp\n",
        "\n",
        "# Historical average sales\n",
        "population_mean = 200\n",
        "\n",
        "# Sample data: daily sales after campaign\n",
        "np.random.seed(42)  # for reproducibility\n",
        "sales_after_campaign = np.array([210, 220, 215, 230, 225, 210, 235, 240, 225, 220, 210, 215])\n",
        "\n",
        "# Perform one-sample t-test\n",
        "t_stat, p_value = ttest_1samp(sales_after_campaign, population_mean)\n",
        "\n",
        "print(f\"Sample sales data: {sales_after_campaign}\")\n",
        "print(f\"T-statistic: {t_stat}\")\n",
        "print(f\"P-value: {p_value}\")\n",
        "\n",
        "# Since the company claims an increase, we'll perform a one-tailed test:\n",
        "# H0: mean sales <= 200\n",
        "# Ha: mean sales > 200\n",
        "\n",
        "alpha = 0.05\n",
        "\n",
        "if p_value / 2 < alpha and t_stat > 0:\n",
        "    print(\"Reject the null hypothesis: The campaign has significantly increased average sales.\")\n",
        "else:\n",
        "    print(\"Fail to reject the null hypothesis: No significant increase detected.\")"
      ]
    },
    {
      "cell_type": "code",
      "source": [],
      "metadata": {
        "id": "dLeWSROc6_PL"
      },
      "execution_count": null,
      "outputs": []
    }
  ]
}